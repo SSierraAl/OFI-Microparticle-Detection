{
 "cells": [
  {
   "cell_type": "code",
   "execution_count": 1,
   "metadata": {},
   "outputs": [
    {
     "name": "stdout",
     "output_type": "stream",
     "text": [
      "Requirement already satisfied: bokeh in c:\\users\\ssierra\\appdata\\local\\programs\\python\\python310\\lib\\site-packages (3.2.0)\n",
      "Requirement already satisfied: tornado>=5.1 in c:\\users\\ssierra\\appdata\\local\\programs\\python\\python310\\lib\\site-packages (from bokeh) (6.3.2)\n",
      "Requirement already satisfied: pandas>=1.2 in c:\\users\\ssierra\\appdata\\local\\programs\\python\\python310\\lib\\site-packages (from bokeh) (1.5.3)\n",
      "Requirement already satisfied: packaging>=16.8 in c:\\users\\ssierra\\appdata\\local\\programs\\python\\python310\\lib\\site-packages (from bokeh) (23.0)\n",
      "Requirement already satisfied: xyzservices>=2021.09.1 in c:\\users\\ssierra\\appdata\\local\\programs\\python\\python310\\lib\\site-packages (from bokeh) (2023.5.0)\n",
      "Requirement already satisfied: numpy>=1.16 in c:\\users\\ssierra\\appdata\\local\\programs\\python\\python310\\lib\\site-packages (from bokeh) (1.23.5)\n",
      "Requirement already satisfied: pillow>=7.1.0 in c:\\users\\ssierra\\appdata\\local\\programs\\python\\python310\\lib\\site-packages (from bokeh) (9.4.0)\n",
      "Requirement already satisfied: contourpy>=1 in c:\\users\\ssierra\\appdata\\local\\programs\\python\\python310\\lib\\site-packages (from bokeh) (1.0.7)\n",
      "Requirement already satisfied: Jinja2>=2.9 in c:\\users\\ssierra\\appdata\\local\\programs\\python\\python310\\lib\\site-packages (from bokeh) (3.1.2)\n",
      "Requirement already satisfied: PyYAML>=3.10 in c:\\users\\ssierra\\appdata\\local\\programs\\python\\python310\\lib\\site-packages (from bokeh) (6.0)\n",
      "Requirement already satisfied: MarkupSafe>=2.0 in c:\\users\\ssierra\\appdata\\local\\programs\\python\\python310\\lib\\site-packages (from Jinja2>=2.9->bokeh) (2.1.3)\n",
      "Requirement already satisfied: python-dateutil>=2.8.1 in c:\\users\\ssierra\\appdata\\local\\programs\\python\\python310\\lib\\site-packages (from pandas>=1.2->bokeh) (2.8.2)\n",
      "Requirement already satisfied: pytz>=2020.1 in c:\\users\\ssierra\\appdata\\local\\programs\\python\\python310\\lib\\site-packages (from pandas>=1.2->bokeh) (2022.7.1)\n",
      "Requirement already satisfied: six>=1.5 in c:\\users\\ssierra\\appdata\\local\\programs\\python\\python310\\lib\\site-packages (from python-dateutil>=2.8.1->pandas>=1.2->bokeh) (1.16.0)\n"
     ]
    },
    {
     "name": "stderr",
     "output_type": "stream",
     "text": [
      "\n",
      "[notice] A new release of pip available: 22.3.1 -> 23.1.2\n",
      "[notice] To update, run: python.exe -m pip install --upgrade pip\n"
     ]
    }
   ],
   "source": [
    "!pip install bokeh"
   ]
  },
  {
   "cell_type": "code",
   "execution_count": 5,
   "metadata": {},
   "outputs": [
    {
     "ename": "FileNotFoundError",
     "evalue": "[Errno 2] No such file or directory: './DataEXP/30ul 1 seg 5 steps fast/Calib_0.00797_5.npy'",
     "output_type": "error",
     "traceback": [
      "\u001b[1;31m---------------------------------------------------------------------------\u001b[0m",
      "\u001b[1;31mFileNotFoundError\u001b[0m                         Traceback (most recent call last)",
      "Cell \u001b[1;32mIn[5], line 7\u001b[0m\n\u001b[0;32m      4\u001b[0m \u001b[39mfrom\u001b[39;00m \u001b[39mbokeh\u001b[39;00m\u001b[39m.\u001b[39;00m\u001b[39mplotting\u001b[39;00m \u001b[39mimport\u001b[39;00m figure, show\n\u001b[0;32m      6\u001b[0m \u001b[39m# Leer los datos del archivo .npy\u001b[39;00m\n\u001b[1;32m----> 7\u001b[0m data \u001b[39m=\u001b[39m np\u001b[39m.\u001b[39;49mload(\u001b[39m'\u001b[39;49m\u001b[39m./DataEXP/30ul 1 seg 5 steps fast/Calib_0.00797_5.npy\u001b[39;49m\u001b[39m'\u001b[39;49m)\n\u001b[0;32m      8\u001b[0m \u001b[39m#'./DataEXP/Calib/'\u001b[39;00m\n\u001b[0;32m      9\u001b[0m \u001b[39m# Crear índices para las fechas (usando números enteros consecutivos)\u001b[39;00m\n\u001b[0;32m     10\u001b[0m dates \u001b[39m=\u001b[39m np\u001b[39m.\u001b[39marange(\u001b[39mlen\u001b[39m(data))\n",
      "File \u001b[1;32mc:\\Users\\ssierra\\AppData\\Local\\Programs\\Python\\Python310\\lib\\site-packages\\numpy\\lib\\npyio.py:405\u001b[0m, in \u001b[0;36mload\u001b[1;34m(file, mmap_mode, allow_pickle, fix_imports, encoding, max_header_size)\u001b[0m\n\u001b[0;32m    403\u001b[0m     own_fid \u001b[39m=\u001b[39m \u001b[39mFalse\u001b[39;00m\n\u001b[0;32m    404\u001b[0m \u001b[39melse\u001b[39;00m:\n\u001b[1;32m--> 405\u001b[0m     fid \u001b[39m=\u001b[39m stack\u001b[39m.\u001b[39menter_context(\u001b[39mopen\u001b[39;49m(os_fspath(file), \u001b[39m\"\u001b[39;49m\u001b[39mrb\u001b[39;49m\u001b[39m\"\u001b[39;49m))\n\u001b[0;32m    406\u001b[0m     own_fid \u001b[39m=\u001b[39m \u001b[39mTrue\u001b[39;00m\n\u001b[0;32m    408\u001b[0m \u001b[39m# Code to distinguish from NumPy binary files and pickles.\u001b[39;00m\n",
      "\u001b[1;31mFileNotFoundError\u001b[0m: [Errno 2] No such file or directory: './DataEXP/30ul 1 seg 5 steps fast/Calib_0.00797_5.npy'"
     ]
    }
   ],
   "source": [
    "import numpy as np\n",
    "from bokeh.layouts import column\n",
    "from bokeh.models import ColumnDataSource, RangeTool, Button, CustomJS\n",
    "from bokeh.plotting import figure, show\n",
    "\n",
    "# Leer los datos del archivo .npy\n",
    "data = np.load('./DataEXP/30ul 1 seg 5 steps fast/Calib_0.00797_5.npy')\n",
    "#'./DataEXP/Calib/'\n",
    "# Crear índices para las fechas (usando números enteros consecutivos)\n",
    "dates = np.arange(len(data))\n",
    "\n",
    "source = ColumnDataSource(data=dict(x=dates, y=data))\n",
    "\n",
    "p = figure(height=400, width=1200, tools=\"xpan\", toolbar_location=None,\n",
    "           x_axis_label='Index', x_axis_location=\"above\",\n",
    "           background_fill_color=\"#efefef\", x_range=(dates[1500], dates[10000]))\n",
    "\n",
    "p.line('x', 'y', source=source)\n",
    "p.yaxis.axis_label = 'Value'\n",
    "\n",
    "select = figure(title=\"Drag the middle and edges of the selection box to change the range above\",\n",
    "                height=130, width=1200, y_range=p.y_range,\n",
    "                x_axis_label='Index', y_axis_type=None,\n",
    "                tools=\"\", toolbar_location=None, background_fill_color=\"#efefef\")\n",
    "\n",
    "range_tool = RangeTool(x_range=p.x_range)\n",
    "range_tool.overlay.fill_color = \"navy\"\n",
    "range_tool.overlay.fill_alpha = 0.2\n",
    "\n",
    "select.line('x', 'y', source=source)\n",
    "select.ygrid.grid_line_color = None\n",
    "select.add_tools(range_tool)\n",
    "select.toolbar.active_multi = range_tool\n",
    "\n",
    "\n",
    "\n",
    "# Create a button and define its callback function\n",
    "button = Button(label=\"Export Range\", button_type=\"success\")\n",
    "button.js_on_event(\"button_click\", CustomJS(args=dict(range_tool=range_tool), code=\"\"\"\n",
    "    var start = range_tool.x_range.start;\n",
    "    var end = range_tool.x_range.end;\n",
    "    // Store the values in a JavaScript variable\n",
    "    IPython.notebook.kernel.set('start_value', start);\n",
    "    IPython.notebook.kernel.set('end_value', end);\n",
    "\"\"\"))\n",
    "\n",
    "\n",
    "show(column(select, p, button))"
   ]
  },
  {
   "cell_type": "code",
   "execution_count": null,
   "metadata": {},
   "outputs": [],
   "source": []
  }
 ],
 "metadata": {
  "kernelspec": {
   "display_name": "PyMAT",
   "language": "python",
   "name": "python3"
  },
  "language_info": {
   "codemirror_mode": {
    "name": "ipython",
    "version": 3
   },
   "file_extension": ".py",
   "mimetype": "text/x-python",
   "name": "python",
   "nbconvert_exporter": "python",
   "pygments_lexer": "ipython3",
   "version": "3.10.9"
  },
  "orig_nbformat": 4
 },
 "nbformat": 4,
 "nbformat_minor": 2
}
